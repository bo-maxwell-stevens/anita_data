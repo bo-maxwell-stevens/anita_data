{
 "metadata": {
  "name": "",
  "signature": "sha256:a1dee46d72dd00bcb24b39c729e09f7da40b6042733086e47243f2777d6b92ab"
 },
 "nbformat": 3,
 "nbformat_minor": 0,
 "worksheets": [
  {
   "cells": [
    {
     "cell_type": "code",
     "collapsed": false,
     "input": [
      "import pandas as pd\n",
      "import numpy as np\n",
      "import os\n",
      "import datetime\n",
      "import time\n",
      "from os.path import isfile, join\n",
      "import re"
     ],
     "language": "python",
     "metadata": {},
     "outputs": [],
     "prompt_number": 1
    },
    {
     "cell_type": "code",
     "collapsed": false,
     "input": [
      "mypath = 'sensor_data'\n",
      "butt_files = []\n",
      "for f in os.listdir(mypath):\n",
      "    if 'iButton' in f and not f.startswith('_'):\n",
      "        if 'Jornada' in f or 'Hill' in f:\n",
      "            butt_files.append(join(mypath,f))"
     ],
     "language": "python",
     "metadata": {},
     "outputs": [],
     "prompt_number": 2
    },
    {
     "cell_type": "code",
     "collapsed": false,
     "input": [
      "butt_files"
     ],
     "language": "python",
     "metadata": {},
     "outputs": [
      {
       "metadata": {},
       "output_type": "pyout",
       "prompt_number": 3,
       "text": [
        "['sensor_data/Jornada iButton Sept 26, 2014',\n",
        " 'sensor_data/Hill iButton March 2014',\n",
        " 'sensor_data/Jornada iButton March 2014',\n",
        " 'sensor_data/Hill iButton June2014',\n",
        " 'sensor_data/Hill iButton data April_Oct2013']"
       ]
      }
     ],
     "prompt_number": 3
    },
    {
     "cell_type": "code",
     "collapsed": false,
     "input": [
      "def read_butt(f):\n",
      "    new_df = pd.read_csv(f, parse_dates =['Date/Time'], skiprows = 19, header = 0)\n",
      "    return new_df"
     ],
     "language": "python",
     "metadata": {},
     "outputs": [],
     "prompt_number": 4
    },
    {
     "cell_type": "code",
     "collapsed": false,
     "input": [
      "def round_datetime(date_list):\n",
      "    for i in range(len(date_list)):\n",
      "        date_list[i] = date_list[i].replace(minute=0, second=0, microsecond=0)\n",
      "    return date_list"
     ],
     "language": "python",
     "metadata": {},
     "outputs": [],
     "prompt_number": 5
    },
    {
     "cell_type": "code",
     "collapsed": false,
     "input": [
      "butt_paths = []\n",
      "for x in range(len(butt_files)):\n",
      "    for f in os.listdir(butt_files[x]):\n",
      "        if not f.startswith('.') and ('iButton' not in f):\n",
      "            if 'H2M1H_Temp_Mar_2014.csv' in f:\n",
      "                extra = join(butt_files[x], f)\n",
      "            else:\n",
      "                butt_paths.append(join(butt_files[x], f))"
     ],
     "language": "python",
     "metadata": {},
     "outputs": [],
     "prompt_number": 6
    },
    {
     "cell_type": "code",
     "collapsed": false,
     "input": [
      "site_name = []\n",
      "data_type =[]\n",
      "butt_paths = sorted(butt_paths)\n",
      "for i in range(len(butt_paths)):\n",
      "    site_name.append(butt_paths[i].split('/')[2].split('_')[0])\n",
      "    data_type.append(butt_paths[i].split('/')[2].split('_')[1].strip('.csv'))"
     ],
     "language": "python",
     "metadata": {},
     "outputs": [],
     "prompt_number": 7
    },
    {
     "cell_type": "code",
     "collapsed": false,
     "input": [
      "for i in range(0,len(site_name)-1,2):\n",
      "    if site_name[i] == site_name[i+1]:\n",
      "        pass\n",
      "    else:\n",
      "        print 'ERROR: sites do not match!'"
     ],
     "language": "python",
     "metadata": {},
     "outputs": [],
     "prompt_number": 8
    },
    {
     "cell_type": "code",
     "collapsed": false,
     "input": [
      "def parse_butt_filename(f):\n",
      "    site = f[0]\n",
      "    if site.lower() != 'h' and site.lower() != 'j':\n",
      "        site = 'ERROR'\n",
      "        print f\n",
      "    soil_type = f[1]\n",
      "    if soil_type == 'I':\n",
      "        soil_type = '1'\n",
      "    if soil_type != '1' and soil_type != '2':\n",
      "        soil_type = 'ERROR'\n",
      "    if 'M1' in f:\n",
      "        monitor_station = 'M1'\n",
      "    elif 'M2' in f:\n",
      "        monitor_station = 'M2'\n",
      "    else:\n",
      "        monitor_station = 'ERROR'\n",
      "        print f\n",
      "    \n",
      "    if 'rh' in f.lower():\n",
      "        data = 'RH'\n",
      "    elif 'temp' in f.lower():\n",
      "        data = 'Temp'\n",
      "    else:\n",
      "        data = 'ERROR'\n",
      "        print f\n",
      "\n",
      "    if 'hm' in f.lower() or 'h_' in f.lower():\n",
      "        treatment = 'H'\n",
      "        habitat = 'C'\n",
      "    elif 'hs' in f.lower():\n",
      "        treatment = 'H'\n",
      "        habitat = 'S'\n",
      "    elif 'p' in f.lower():\n",
      "        treatment = 'C'\n",
      "        habitat = 'P'        \n",
      "    else:\n",
      "        treatment = 'ERROR'\n",
      "        habitat = 'ERROR'\n",
      "        print f\n",
      "    return site, soil_type, monitor_station, treatment, habitat"
     ],
     "language": "python",
     "metadata": {},
     "outputs": [],
     "prompt_number": 9
    },
    {
     "cell_type": "code",
     "collapsed": false,
     "input": [
      "def collapse_by_day(df):\n",
      "    new_df = pd.DataFrame()\n",
      "    \n",
      "    new_df[['RH_mean','Temp_mean']] = df.groupby(pd.TimeGrouper('1M'))[['RH','Temp']].mean()\n",
      "    new_df[['RH_max','Temp_max']] = df.groupby(pd.TimeGrouper('1M'))[['RH','Temp']].max()\n",
      "    new_df[['RH_min','Temp_min']] = df.groupby(pd.TimeGrouper('1M'))[['RH','Temp']].min()\n",
      "    new_df[['RH_sd','Temp_sd']] = df.groupby(pd.TimeGrouper('1M'))[['RH','Temp']].std()\n",
      "    return new_df"
     ],
     "language": "python",
     "metadata": {},
     "outputs": [],
     "prompt_number": 37
    },
    {
     "cell_type": "code",
     "collapsed": false,
     "input": [
      "final_df = pd.DataFrame()\n",
      "df = pd.DataFrame()\n",
      "df_temp = pd.DataFrame()\n",
      "for x in range(0,len(butt_paths)-1,2):\n",
      "# for x in range(0,4,2):\n",
      "    df = read_butt(butt_paths[x])\n",
      "    df_temp = read_butt(butt_paths[x+1])\n",
      "    if len(df) != len(df_temp):\n",
      "        print 'ERROR: index lengths do not match!'\n",
      "    \n",
      "    df.columns = ['Datetime','Unit','Value']\n",
      "    df_temp.columns = ['Datetime','Unit','Value']\n",
      "    df['Datetime'] = round_datetime(list(df['Datetime'].tolist()))\n",
      "    df_temp['Datetime'] = round_datetime(list(df['Datetime'].tolist()))\n",
      "    if set(df['Datetime'].tolist()) == set(df_temp['Datetime'].tolist()):\n",
      "        pass\n",
      "    else:\n",
      "        print 'ERROR: File indeces do not match'\n",
      "    df = df.drop('Unit', 1)\n",
      "    df['RH'] = df['Value']\n",
      "    df['Temp'] = df_temp['Value']\n",
      "    df = df.drop('Value', 1)\n",
      "    df = df.set_index('Datetime')\n",
      "    df[['RH','Temp']] = df[['RH','Temp']].astype('float')\n",
      "    df = collapse_by_day(df[['RH','Temp']])\n",
      "    df['Datetime'] = df.index\n",
      "    df['site'], df['soil_type'], df['monitor_station'], df['treatment'], df['habitat'] = parse_butt_filename(butt_paths[x].split('/')[2])\n",
      "    final_df = final_df.append(df, ignore_index = True)\n",
      "df = read_butt(extra)\n",
      "df.columns = ['Datetime','Unit','Value']\n",
      "df = df.drop('Unit', 1)\n",
      "df['Datetime'] = round_datetime(list(df['Datetime'].tolist()))\n",
      "df['RH'] = np.nan\n",
      "df['Temp'] = df['Value']\n",
      "df = df.drop('Value', 1)\n",
      "df = df.set_index('Datetime')\n",
      "df[['RH','Temp']] = df[['RH','Temp']].astype('float')\n",
      "df = collapse_by_day(df[['RH','Temp']])\n",
      "df['Datetime'] = df.index\n",
      "df['site'], df['soil_type'], df['monitor_station'], df['treatment'], df['habitat'] = parse_butt_filename(extra.split('/')[2])\n",
      "final_df = final_df.append(df, ignore_index = True)\n",
      "final_df.to_csv('iButton_by_month.csv')"
     ],
     "language": "python",
     "metadata": {},
     "outputs": [],
     "prompt_number": 38
    }
   ],
   "metadata": {}
  }
 ]
}