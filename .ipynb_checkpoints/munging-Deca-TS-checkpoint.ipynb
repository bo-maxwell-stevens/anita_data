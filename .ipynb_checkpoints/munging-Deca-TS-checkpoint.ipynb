{
 "metadata": {
  "name": "",
  "signature": "sha256:7b01f6847f47bfba2f22e3e4751a961e79750cffcd12a7c97622b6078cb8bbe4"
 },
 "nbformat": 3,
 "nbformat_minor": 0,
 "worksheets": [
  {
   "cells": [
    {
     "cell_type": "code",
     "collapsed": false,
     "input": [
      "import pandas as pd\n",
      "import numpy as np\n",
      "import os\n",
      "import datetime\n",
      "import time\n",
      "from os.path import isfile, join\n",
      "import xlrd\n",
      "from dateutil import tz\n",
      "import re\n",
      "from datetime import date, timedelta"
     ],
     "language": "python",
     "metadata": {},
     "outputs": [],
     "prompt_number": 29
    },
    {
     "cell_type": "code",
     "collapsed": false,
     "input": [
      "mypath = 'sensor_data'\n",
      "deca_files = []\n",
      "for f in os.listdir(mypath):\n",
      "    if 'Decagon' in f and not f.startswith('_'):\n",
      "        if 'Jornada' in f or 'Hill' in f:\n",
      "            deca_files.append(join(mypath,f))"
     ],
     "language": "python",
     "metadata": {},
     "outputs": [],
     "prompt_number": 2
    },
    {
     "cell_type": "code",
     "collapsed": false,
     "input": [
      "deca_files"
     ],
     "language": "python",
     "metadata": {},
     "outputs": [
      {
       "metadata": {},
       "output_type": "pyout",
       "prompt_number": 9,
       "text": [
        "['sensor_data/Jornada Decagon Sept 26, 2014',\n",
        " 'sensor_data/Hill Decagon June 2014',\n",
        " 'sensor_data/Hill Decagon March 2014',\n",
        " 'sensor_data/Jornada Decagon March 2014']"
       ]
      }
     ],
     "prompt_number": 9
    },
    {
     "cell_type": "code",
     "collapsed": false,
     "input": [
      "def round_datetime(date_list):\n",
      "    for i in range(len(date_list)):\n",
      "        date_list[i] = date_list[i].replace(minute=0, second=0, microsecond=0)\n",
      "    return date_list"
     ],
     "language": "python",
     "metadata": {},
     "outputs": [],
     "prompt_number": 10
    },
    {
     "cell_type": "code",
     "collapsed": false,
     "input": [
      "def parse_deca_filename(f):\n",
      "    site = f[0]\n",
      "    soil_type = f[1]\n",
      "    #an I in one of the filenames (soil type), converted to 1\n",
      "    if soil_type == 'I':\n",
      "        soil_type = 1\n",
      "    monitor_station = f[2:4]\n",
      "    replicate = f[5]\n",
      "    return site, soil_type, monitor_station, replicate"
     ],
     "language": "python",
     "metadata": {},
     "outputs": [],
     "prompt_number": 12
    },
    {
     "cell_type": "code",
     "collapsed": false,
     "input": [
      "def read_deca(f):\n",
      "    new_df = pd.read_csv(f, skiprows = 2, header = 0, parse_dates=['Measurement Time'])\n",
      "    return new_df"
     ],
     "language": "python",
     "metadata": {},
     "outputs": [],
     "prompt_number": 16
    },
    {
     "cell_type": "code",
     "collapsed": false,
     "input": [
      "def collapse_by_day(df, column):\n",
      "    new_df = pd.DataFrame()\n",
      "    new_df['soil_m_mean'] = df.groupby(pd.TimeGrouper('1D'))[column].mean()\n",
      "#     new_df['soil_m_max'] = df.groupby(pd.TimeGrouper('1D'))['soil_m'].max()\n",
      "#     new_df['soil_m_min'] = df.groupby(pd.TimeGrouper('1D'))['soil_m'].min()\n",
      "#     new_df['soil_m_std'] = df.groupby(pd.TimeGrouper('1D'))['soil_m'].std()\n",
      "    return new_df"
     ],
     "language": "python",
     "metadata": {},
     "outputs": [],
     "prompt_number": 74
    },
    {
     "cell_type": "code",
     "collapsed": false,
     "input": [
      "final_df = pd.DataFrame()\n",
      "df = pd.DataFrame()\n",
      "for x in range(len(deca_files)):\n",
      "    for f in os.listdir(deca_files[x]):\n",
      "        if 'H2M1_2_21Jun14-1804.csv' in f and not f.startswith('.'):   \n",
      "            \n",
      "            df = read_deca(join(deca_files[x],f))\n",
      "\n",
      "            df.columns = ['Datetime','1','2','3','4','5']\n",
      "            df = df.drop('5', 1)\n",
      "            df['Datetime'] = round_datetime(list(df['Datetime'].tolist()))\n",
      "            df = df.set_index('Datetime')\n",
      "            \n",
      "            df1 = pd.DataFrame(index = df.index)\n",
      "            df1['soil_m'] = df['1'].values\n",
      "            df1 = df1[df1['soil_m'].notnull()]\n",
      "            df1 = collapse_by_day(df, '1')\n",
      "            df1['Datetime'] = day_df1.index\n",
      "            df1['treatment'] = 'Cr'\n",
      "            df1['habitat'] = 'C'\n",
      "            df1['site'], day_df1['soil_type'], day_df1['monitor_station'], day_df1['replicate'] = parse_deca_filename(f)\n",
      "            df1['filename'] = f\n",
      "\n",
      "            df2 = df.copy()\n",
      "            df2['soil_m'] = df['2'].values\n",
      "            df2 = df2[df2['soil_m'].notnull()]\n",
      "            day_df2 = collapse_by_day(df2, '2')\n",
      "            day_df2['Datetime'] = day_df2.index\n",
      "            day_df2['treatment'] = 'C'\n",
      "            day_df2['habitat'] = 'P'\n",
      "            day_df2['site'], day_df2['soil_type'], day_df2['monitor_station'], day_df2['replicate'] = parse_deca_filename(f)\n",
      "            day_df2['filename'] = f\n",
      "            \n",
      "            df3 = df.copy()\n",
      "            df3['soil_m'] = df['3'].values\n",
      "            df3 = df3[df3['soil_m'].notnull()]\n",
      "            day_df3 = collapse_by_day(df3, '3')\n",
      "            day_df3['Datetime'] = day_df3.index\n",
      "            day_df3['treatment'] = 'H'\n",
      "            day_df3['habitat'] = 'C'\n",
      "            day_df3['site'], day_df3['soil_type'], day_df3['monitor_station'], day_df3['replicate'] = parse_deca_filename(f)\n",
      "            day_df3['filename'] = f\n",
      "            \n",
      "            df4 = df.copy()\n",
      "            df4['soil_m'] = df['4'].values\n",
      "            df4 = df4[df4['soil_m'].notnull()]\n",
      "            day_df4 = collapse_by_day(df4, '4')\n",
      "            day_df4['Datetime'] = day_df4.index\n",
      "            day_df4['treatment'] = 'H'\n",
      "            day_df4['habitat'] = 'S'\n",
      "            day_df4['site'], day_df4['soil_type'], day_df4['monitor_station'], day_df4['replicate'] = parse_deca_filename(f)\n",
      "            day_df4['filename'] = f\n",
      "    \n",
      "            final_df = final_df.append(df1, ignore_index = True)\n",
      "            final_df = final_df.append(day_df2, ignore_index = True)\n",
      "            final_df = final_df.append(day_df3, ignore_index = True)\n",
      "            final_df = final_df.append(day_df4, ignore_index = True)\n",
      "# final_df.to_csv('by_day_Decagon.csv')'"
     ],
     "language": "python",
     "metadata": {},
     "outputs": [],
     "prompt_number": 77
    },
    {
     "cell_type": "code",
     "collapsed": false,
     "input": [
      "print df.index"
     ],
     "language": "python",
     "metadata": {},
     "outputs": [
      {
       "output_type": "stream",
       "stream": "stdout",
       "text": [
        "<class 'pandas.tseries.index.DatetimeIndex'>\n",
        "[2014-03-19 20:00:00, ..., 2001-07-01 20:00:00]\n",
        "Length: 1124, Freq: None, Timezone: None\n"
       ]
      }
     ],
     "prompt_number": 87
    },
    {
     "cell_type": "code",
     "collapsed": false,
     "input": [
      "df.groupby(pd.TimeGrouper('1D'))['1'].mean()[:5]"
     ],
     "language": "python",
     "metadata": {},
     "outputs": [
      {
       "metadata": {},
       "output_type": "pyout",
       "prompt_number": 81,
       "text": [
        "Datetime\n",
        "2001-06-05    0.327636\n",
        "2001-06-06    0.326250\n",
        "2001-06-07    0.324000\n",
        "2001-06-08    0.319750\n",
        "2001-06-09    0.317167\n",
        "Freq: D, Name: 1, dtype: float64"
       ]
      }
     ],
     "prompt_number": 81
    },
    {
     "cell_type": "code",
     "collapsed": false,
     "input": [
      "print df.index[0]\n",
      "print df.index[0] - timedelta(days=1)"
     ],
     "language": "python",
     "metadata": {},
     "outputs": []
    }
   ],
   "metadata": {}
  }
 ]
}